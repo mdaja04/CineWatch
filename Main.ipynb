{
 "cells": [
  {
   "cell_type": "code",
   "execution_count": 1,
   "id": "81495422-0189-44a0-927b-0b6f0fcbc7de",
   "metadata": {
    "ExecuteTime": {
     "end_time": "2024-10-18T13:21:54.770807Z",
     "start_time": "2024-10-18T13:21:54.763606Z"
    },
    "jupyter": {
     "source_hidden": true
    }
   },
   "outputs": [],
   "source": [
    "import pandas as pd"
   ]
  },
  {
   "cell_type": "code",
   "execution_count": 2,
   "id": "66135618-0282-4449-bb96-399e9ad76af6",
   "metadata": {
    "ExecuteTime": {
     "end_time": "2024-10-18T13:21:54.900039Z",
     "start_time": "2024-10-18T13:21:54.841958Z"
    }
   },
   "outputs": [],
   "source": [
    "movies = pd.read_csv('dataset.csv')"
   ]
  },
  {
   "cell_type": "code",
   "execution_count": 3,
   "id": "dc267bfa-7ced-42db-bcfe-9ca3b4c9f32f",
   "metadata": {
    "ExecuteTime": {
     "end_time": "2024-10-18T13:21:54.924516Z",
     "start_time": "2024-10-18T13:21:54.920154Z"
    }
   },
   "outputs": [],
   "source": [
    "movies=movies[['id', 'title', 'overview', 'genre']]\n"
   ]
  },
  {
   "cell_type": "code",
   "execution_count": 4,
   "id": "c856d0cb-5248-40d8-ae6b-2a6102969652",
   "metadata": {
    "ExecuteTime": {
     "end_time": "2024-10-18T13:21:54.952215Z",
     "start_time": "2024-10-18T13:21:54.943395Z"
    }
   },
   "outputs": [],
   "source": [
    "movies['tags'] = movies['overview']+movies['genre']\n"
   ]
  },
  {
   "cell_type": "code",
   "execution_count": 5,
   "id": "6b8bcf3f-76f4-47a0-91ac-3aaa17fd0df2",
   "metadata": {
    "ExecuteTime": {
     "end_time": "2024-10-18T13:21:54.974859Z",
     "start_time": "2024-10-18T13:21:54.968694Z"
    }
   },
   "outputs": [],
   "source": [
    "new_data  = movies.drop(columns=['overview', 'genre'])\n"
   ]
  },
  {
   "cell_type": "code",
   "execution_count": 6,
   "id": "e8a40513-9757-493b-9b36-658ed9d5e1d1",
   "metadata": {
    "ExecuteTime": {
     "end_time": "2024-10-18T13:21:54.996832Z",
     "start_time": "2024-10-18T13:21:54.993961Z"
    }
   },
   "outputs": [],
   "source": [
    "from sklearn.feature_extraction.text import CountVectorizer\n"
   ]
  },
  {
   "cell_type": "code",
   "execution_count": 7,
   "id": "d2e52016-0296-493e-b670-7ca46534cc42",
   "metadata": {
    "ExecuteTime": {
     "end_time": "2024-10-18T13:21:55.003970Z",
     "start_time": "2024-10-18T13:21:55.000902Z"
    }
   },
   "outputs": [],
   "source": [
    "cv = CountVectorizer(max_features = 10000, stop_words='english')"
   ]
  },
  {
   "cell_type": "code",
   "execution_count": 8,
   "id": "52c2f76a-07c2-4f14-9bda-1fc08fbb93f7",
   "metadata": {
    "ExecuteTime": {
     "end_time": "2024-10-18T13:21:56.008730Z",
     "start_time": "2024-10-18T13:21:55.015305Z"
    }
   },
   "outputs": [],
   "source": [
    "matrix = cv.fit_transform(new_data['tags'].values.astype('U')).toarray()"
   ]
  },
  {
   "cell_type": "code",
   "execution_count": 9,
   "id": "b1c42ac4-5b73-4dc4-a0c7-7a65d822c2b9",
   "metadata": {
    "ExecuteTime": {
     "end_time": "2024-10-18T13:21:56.063397Z",
     "start_time": "2024-10-18T13:21:56.060438Z"
    }
   },
   "outputs": [],
   "source": [
    "from sklearn.metrics.pairwise import cosine_similarity"
   ]
  },
  {
   "cell_type": "code",
   "execution_count": 10,
   "id": "034de81f-3edb-49d0-b764-f789d74f97b1",
   "metadata": {
    "ExecuteTime": {
     "end_time": "2024-10-18T13:22:22.510085Z",
     "start_time": "2024-10-18T13:21:56.076375Z"
    }
   },
   "outputs": [],
   "source": [
    "similarity = cosine_similarity(matrix)"
   ]
  },
  {
   "cell_type": "code",
   "execution_count": 11,
   "id": "5124941b-dc8e-4115-960e-af9fd5000766",
   "metadata": {
    "ExecuteTime": {
     "end_time": "2024-10-18T13:22:22.563166Z",
     "start_time": "2024-10-18T13:22:22.556258Z"
    }
   },
   "outputs": [],
   "source": [
    "def recommend(movies):\n",
    "    index=new_data[new_data['title']==movies].index[0]\n",
    "    distance = sorted(list(enumerate(similarity[index])), reverse=True, key=lambda vector:vector[1])\n",
    "    distance = [i for i in distance if i[0] != index]\n",
    "    for i in distance[0:5]:\n",
    "        print(new_data.iloc[i[0]].title)"
   ]
  },
  {
   "cell_type": "code",
   "execution_count": 12,
   "id": "8623a561-1d18-48f4-8ea8-5260a269fac2",
   "metadata": {
    "ExecuteTime": {
     "end_time": "2024-10-18T13:22:23.401482Z",
     "start_time": "2024-10-18T13:22:22.586468Z"
    }
   },
   "outputs": [
    {
     "data": {
      "text/html": [
       "<div>\n",
       "<style scoped>\n",
       "    .dataframe tbody tr th:only-of-type {\n",
       "        vertical-align: middle;\n",
       "    }\n",
       "\n",
       "    .dataframe tbody tr th {\n",
       "        vertical-align: top;\n",
       "    }\n",
       "\n",
       "    .dataframe thead th {\n",
       "        text-align: right;\n",
       "    }\n",
       "</style>\n",
       "<table border=\"1\" class=\"dataframe\">\n",
       "  <thead>\n",
       "    <tr style=\"text-align: right;\">\n",
       "      <th></th>\n",
       "      <th>id</th>\n",
       "      <th>title</th>\n",
       "      <th>tags</th>\n",
       "    </tr>\n",
       "  </thead>\n",
       "  <tbody>\n",
       "    <tr>\n",
       "      <th>0</th>\n",
       "      <td>278</td>\n",
       "      <td>The Shawshank Redemption</td>\n",
       "      <td>Framed in the 1940s for the double murder of h...</td>\n",
       "    </tr>\n",
       "    <tr>\n",
       "      <th>1</th>\n",
       "      <td>19404</td>\n",
       "      <td>Dilwale Dulhania Le Jayenge</td>\n",
       "      <td>Raj is a rich, carefree, happy-go-lucky second...</td>\n",
       "    </tr>\n",
       "    <tr>\n",
       "      <th>2</th>\n",
       "      <td>238</td>\n",
       "      <td>The Godfather</td>\n",
       "      <td>Spanning the years 1945 to 1955, a chronicle o...</td>\n",
       "    </tr>\n",
       "    <tr>\n",
       "      <th>3</th>\n",
       "      <td>424</td>\n",
       "      <td>Schindler's List</td>\n",
       "      <td>The true story of how businessman Oskar Schind...</td>\n",
       "    </tr>\n",
       "    <tr>\n",
       "      <th>4</th>\n",
       "      <td>240</td>\n",
       "      <td>The Godfather: Part II</td>\n",
       "      <td>In the continuing saga of the Corleone crime f...</td>\n",
       "    </tr>\n",
       "    <tr>\n",
       "      <th>...</th>\n",
       "      <td>...</td>\n",
       "      <td>...</td>\n",
       "      <td>...</td>\n",
       "    </tr>\n",
       "    <tr>\n",
       "      <th>9995</th>\n",
       "      <td>10196</td>\n",
       "      <td>The Last Airbender</td>\n",
       "      <td>The story follows the adventures of Aang, a yo...</td>\n",
       "    </tr>\n",
       "    <tr>\n",
       "      <th>9996</th>\n",
       "      <td>331446</td>\n",
       "      <td>Sharknado 3: Oh Hell No!</td>\n",
       "      <td>The sharks take bite out of the East Coast whe...</td>\n",
       "    </tr>\n",
       "    <tr>\n",
       "      <th>9997</th>\n",
       "      <td>13995</td>\n",
       "      <td>Captain America</td>\n",
       "      <td>During World War II, a brave, patriotic Americ...</td>\n",
       "    </tr>\n",
       "    <tr>\n",
       "      <th>9998</th>\n",
       "      <td>2312</td>\n",
       "      <td>In the Name of the King: A Dungeon Siege Tale</td>\n",
       "      <td>A man named Farmer sets out to rescue his kidn...</td>\n",
       "    </tr>\n",
       "    <tr>\n",
       "      <th>9999</th>\n",
       "      <td>455957</td>\n",
       "      <td>Domino</td>\n",
       "      <td>Seeking justice for his partner’s murder by an...</td>\n",
       "    </tr>\n",
       "  </tbody>\n",
       "</table>\n",
       "<p>10000 rows × 3 columns</p>\n",
       "</div>"
      ],
      "text/plain": [
       "          id                                          title  \\\n",
       "0        278                       The Shawshank Redemption   \n",
       "1      19404                    Dilwale Dulhania Le Jayenge   \n",
       "2        238                                  The Godfather   \n",
       "3        424                               Schindler's List   \n",
       "4        240                         The Godfather: Part II   \n",
       "...      ...                                            ...   \n",
       "9995   10196                             The Last Airbender   \n",
       "9996  331446                       Sharknado 3: Oh Hell No!   \n",
       "9997   13995                                Captain America   \n",
       "9998    2312  In the Name of the King: A Dungeon Siege Tale   \n",
       "9999  455957                                         Domino   \n",
       "\n",
       "                                                   tags  \n",
       "0     Framed in the 1940s for the double murder of h...  \n",
       "1     Raj is a rich, carefree, happy-go-lucky second...  \n",
       "2     Spanning the years 1945 to 1955, a chronicle o...  \n",
       "3     The true story of how businessman Oskar Schind...  \n",
       "4     In the continuing saga of the Corleone crime f...  \n",
       "...                                                 ...  \n",
       "9995  The story follows the adventures of Aang, a yo...  \n",
       "9996  The sharks take bite out of the East Coast whe...  \n",
       "9997  During World War II, a brave, patriotic Americ...  \n",
       "9998  A man named Farmer sets out to rescue his kidn...  \n",
       "9999  Seeking justice for his partner’s murder by an...  \n",
       "\n",
       "[10000 rows x 3 columns]"
      ]
     },
     "execution_count": 12,
     "metadata": {},
     "output_type": "execute_result"
    }
   ],
   "source": [
    "import pickle\n",
    "pickle.dump(new_data, open('movies_list.pkl', 'wb'))\n",
    "pickle.dump(similarity, open('similarity.pkl', 'wb'))\n",
    "pickle.load(open('movies_list.pkl', 'rb'))"
   ]
  },
  {
   "cell_type": "code",
   "execution_count": null,
   "id": "4889241c-ae06-4954-91cc-32021f07899a",
   "metadata": {
    "ExecuteTime": {
     "end_time": "2024-10-18T13:23:18.899497Z",
     "start_time": "2024-10-18T13:23:18.787506Z"
    }
   },
   "outputs": [],
   "source": []
  }
 ],
 "metadata": {
  "kernelspec": {
   "display_name": "Python 3 (ipykernel)",
   "language": "python",
   "name": "python3"
  },
  "language_info": {
   "codemirror_mode": {
    "name": "ipython",
    "version": 3
   },
   "file_extension": ".py",
   "mimetype": "text/x-python",
   "name": "python",
   "nbconvert_exporter": "python",
   "pygments_lexer": "ipython3",
   "version": "3.12.4"
  }
 },
 "nbformat": 4,
 "nbformat_minor": 5
}
